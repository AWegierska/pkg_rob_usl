{
 "cells": [
  {
   "cell_type": "markdown",
   "metadata": {},
   "source": [
    "# Obsługa ROS Topics\n",
    "\n",
    "## Wprowadzenie - polecenia w terminalu\n",
    "ROS Topics używane są do komunikacji rozgłoszeniowej. Nie ma znaczenia kto jest nadawcą, a kto odbiorcą wiadomości. Za kodowanie przesyłanej wiadomości odpowiada **Publisher**, a za rozkodowanie **Subscriber**. Typy wiadomości przechowywane są w katalogu srv, a rozszerzenie wiadomości to .msg.\n",
    "\n",
    "### Struktura wiadomości\n",
    "\n",
    "Z lewej strony należy podać typ wiadomości ROS. Mogą być one bardziej złożone i składać się z już utworzonych wiadomości (ROS msg). Z prawej strony podawana jest nazwa pola.\n",
    "\n",
    "Typ wiadomości to nazwa paczki + nazwa_wiadomosci.msg. Wyświetlenie przykładowej wiadomości znajdującej się w paczce tsr_materials:"
   ]
  },
  {
   "cell_type": "code",
   "execution_count": 1,
   "metadata": {},
   "outputs": [
    {
     "name": "stdout",
     "output_type": "stream",
     "text": [
      "int32 robot_id\r\n",
      "string info\r\n",
      "\r\n"
     ]
    }
   ],
   "source": [
    "!rosmsg info pkg_tsr/RobotInfo"
   ]
  },
  {
   "cell_type": "markdown",
   "metadata": {},
   "source": [
    "### Wyświetlenie listy aktualnie dostępnych topiców"
   ]
  },
  {
   "cell_type": "code",
   "execution_count": 3,
   "metadata": {},
   "outputs": [
    {
     "name": "stdout",
     "output_type": "stream",
     "text": [
      "/client_count\r\n",
      "/clock\r\n",
      "/connected_clients\r\n",
      "/diagnostics\r\n",
      "/gazebo/link_states\r\n",
      "/gazebo/model_states\r\n",
      "/gazebo/parameter_descriptions\r\n",
      "/gazebo/parameter_updates\r\n",
      "/gazebo/set_link_state\r\n",
      "/gazebo/set_model_state\r\n",
      "/odometry/odom\r\n",
      "/rosout\r\n",
      "/rosout_agg\r\n",
      "/tb3_0/amcl/parameter_descriptions\r\n",
      "/tb3_0/amcl/parameter_updates\r\n",
      "/tb3_0/amcl_pose\r\n",
      "/tb3_0/camera/depth/camera_info\r\n",
      "/tb3_0/camera/depth/image_raw\r\n",
      "/tb3_0/camera/depth/points\r\n",
      "/tb3_0/camera/parameter_descriptions\r\n",
      "/tb3_0/camera/parameter_updates\r\n",
      "/tb3_0/camera/rgb/camera_info\r\n",
      "/tb3_0/camera/rgb/image_raw\r\n",
      "/tb3_0/camera/rgb/image_raw/compressed\r\n",
      "/tb3_0/camera/rgb/image_raw/compressed/parameter_descriptions\r\n",
      "/tb3_0/camera/rgb/image_raw/compressed/parameter_updates\r\n",
      "/tb3_0/camera/rgb/image_raw/compressedDepth\r\n",
      "/tb3_0/camera/rgb/image_raw/compressedDepth/parameter_descriptions\r\n",
      "/tb3_0/camera/rgb/image_raw/compressedDepth/parameter_updates\r\n",
      "/tb3_0/camera/rgb/image_raw/theora\r\n",
      "/tb3_0/camera/rgb/image_raw/theora/parameter_descriptions\r\n",
      "/tb3_0/camera/rgb/image_raw/theora/parameter_updates\r\n",
      "/tb3_0/cmd_vel\r\n",
      "/tb3_0/imu\r\n",
      "/tb3_0/initialpose\r\n",
      "/tb3_0/joint_states\r\n",
      "/tb3_0/laser\r\n",
      "/tb3_0/map\r\n",
      "/tb3_0/map_metadata\r\n",
      "/tb3_0/map_updates\r\n",
      "/tb3_0/move_base/NavfnROS/plan\r\n",
      "/tb3_0/move_base/TebLocalPlannerROS/global_plan\r\n",
      "/tb3_0/move_base/TebLocalPlannerROS/local_plan\r\n",
      "/tb3_0/move_base/TebLocalPlannerROS/obstacles\r\n",
      "/tb3_0/move_base/TebLocalPlannerROS/parameter_descriptions\r\n",
      "/tb3_0/move_base/TebLocalPlannerROS/parameter_updates\r\n",
      "/tb3_0/move_base/TebLocalPlannerROS/teb_feedback\r\n",
      "/tb3_0/move_base/TebLocalPlannerROS/teb_markers\r\n",
      "/tb3_0/move_base/TebLocalPlannerROS/teb_poses\r\n",
      "/tb3_0/move_base/TebLocalPlannerROS/via_points\r\n",
      "/tb3_0/move_base/TrajectoryPlannerROS/global_plan\r\n",
      "/tb3_0/move_base/cancel\r\n",
      "/tb3_0/move_base/current_goal\r\n",
      "/tb3_0/move_base/feedback\r\n",
      "/tb3_0/move_base/global_costmap/costmap\r\n",
      "/tb3_0/move_base/global_costmap/costmap_updates\r\n",
      "/tb3_0/move_base/global_costmap/footprint\r\n",
      "/tb3_0/move_base/global_costmap/inflation/parameter_descriptions\r\n",
      "/tb3_0/move_base/global_costmap/inflation/parameter_updates\r\n",
      "/tb3_0/move_base/global_costmap/parameter_descriptions\r\n",
      "/tb3_0/move_base/global_costmap/parameter_updates\r\n",
      "/tb3_0/move_base/global_costmap/sensor/parameter_descriptions\r\n",
      "/tb3_0/move_base/global_costmap/sensor/parameter_updates\r\n",
      "/tb3_0/move_base/global_costmap/static/parameter_descriptions\r\n",
      "/tb3_0/move_base/global_costmap/static/parameter_updates\r\n",
      "/tb3_0/move_base/goal\r\n",
      "/tb3_0/move_base/local_costmap/costmap\r\n",
      "/tb3_0/move_base/local_costmap/costmap_updates\r\n",
      "/tb3_0/move_base/local_costmap/footprint\r\n",
      "/tb3_0/move_base/local_costmap/inflation/parameter_descriptions\r\n",
      "/tb3_0/move_base/local_costmap/inflation/parameter_updates\r\n",
      "/tb3_0/move_base/local_costmap/obstacle_layer/parameter_descriptions\r\n",
      "/tb3_0/move_base/local_costmap/obstacle_layer/parameter_updates\r\n",
      "/tb3_0/move_base/local_costmap/parameter_descriptions\r\n",
      "/tb3_0/move_base/local_costmap/parameter_updates\r\n",
      "/tb3_0/move_base/parameter_descriptions\r\n",
      "/tb3_0/move_base/parameter_updates\r\n",
      "/tb3_0/move_base/result\r\n",
      "/tb3_0/move_base/status\r\n",
      "/tb3_0/move_base_simple/goal\r\n",
      "/tb3_0/odom\r\n",
      "/tb3_0/particlecloud\r\n",
      "/tb3_0/scan\r\n",
      "/tb3_1/amcl/parameter_descriptions\r\n",
      "/tb3_1/amcl/parameter_updates\r\n",
      "/tb3_1/amcl_pose\r\n",
      "/tb3_1/camera/depth/camera_info\r\n",
      "/tb3_1/camera/depth/image_raw\r\n",
      "/tb3_1/camera/depth/points\r\n",
      "/tb3_1/camera/parameter_descriptions\r\n",
      "/tb3_1/camera/parameter_updates\r\n",
      "/tb3_1/camera/rgb/camera_info\r\n",
      "/tb3_1/camera/rgb/image_raw\r\n",
      "/tb3_1/camera/rgb/image_raw/compressed\r\n",
      "/tb3_1/camera/rgb/image_raw/compressed/parameter_descriptions\r\n",
      "/tb3_1/camera/rgb/image_raw/compressed/parameter_updates\r\n",
      "/tb3_1/camera/rgb/image_raw/compressedDepth\r\n",
      "/tb3_1/camera/rgb/image_raw/compressedDepth/parameter_descriptions\r\n",
      "/tb3_1/camera/rgb/image_raw/compressedDepth/parameter_updates\r\n",
      "/tb3_1/camera/rgb/image_raw/theora\r\n",
      "/tb3_1/camera/rgb/image_raw/theora/parameter_descriptions\r\n",
      "/tb3_1/camera/rgb/image_raw/theora/parameter_updates\r\n",
      "/tb3_1/cmd_vel\r\n",
      "/tb3_1/imu\r\n",
      "/tb3_1/initialpose\r\n",
      "/tb3_1/joint_states\r\n",
      "/tb3_1/laser\r\n",
      "/tb3_1/map\r\n",
      "/tb3_1/map_metadata\r\n",
      "/tb3_1/map_updates\r\n",
      "/tb3_1/move_base/NavfnROS/plan\r\n",
      "/tb3_1/move_base/TebLocalPlannerROS/global_plan\r\n",
      "/tb3_1/move_base/TebLocalPlannerROS/local_plan\r\n",
      "/tb3_1/move_base/TebLocalPlannerROS/obstacles\r\n",
      "/tb3_1/move_base/TebLocalPlannerROS/parameter_descriptions\r\n",
      "/tb3_1/move_base/TebLocalPlannerROS/parameter_updates\r\n",
      "/tb3_1/move_base/TebLocalPlannerROS/teb_feedback\r\n",
      "/tb3_1/move_base/TebLocalPlannerROS/teb_markers\r\n",
      "/tb3_1/move_base/TebLocalPlannerROS/teb_poses\r\n",
      "/tb3_1/move_base/TebLocalPlannerROS/via_points\r\n",
      "/tb3_1/move_base/cancel\r\n",
      "/tb3_1/move_base/current_goal\r\n",
      "/tb3_1/move_base/feedback\r\n",
      "/tb3_1/move_base/global_costmap/costmap\r\n",
      "/tb3_1/move_base/global_costmap/costmap_updates\r\n",
      "/tb3_1/move_base/global_costmap/footprint\r\n",
      "/tb3_1/move_base/global_costmap/inflation/parameter_descriptions\r\n",
      "/tb3_1/move_base/global_costmap/inflation/parameter_updates\r\n",
      "/tb3_1/move_base/global_costmap/parameter_descriptions\r\n",
      "/tb3_1/move_base/global_costmap/parameter_updates\r\n",
      "/tb3_1/move_base/global_costmap/sensor/parameter_descriptions\r\n",
      "/tb3_1/move_base/global_costmap/sensor/parameter_updates\r\n",
      "/tb3_1/move_base/global_costmap/static/parameter_descriptions\r\n",
      "/tb3_1/move_base/global_costmap/static/parameter_updates\r\n",
      "/tb3_1/move_base/goal\r\n",
      "/tb3_1/move_base/local_costmap/costmap\r\n",
      "/tb3_1/move_base/local_costmap/costmap_updates\r\n",
      "/tb3_1/move_base/local_costmap/footprint\r\n",
      "/tb3_1/move_base/local_costmap/inflation/parameter_descriptions\r\n",
      "/tb3_1/move_base/local_costmap/inflation/parameter_updates\r\n",
      "/tb3_1/move_base/local_costmap/obstacle_layer/parameter_descriptions\r\n",
      "/tb3_1/move_base/local_costmap/obstacle_layer/parameter_updates\r\n",
      "/tb3_1/move_base/local_costmap/parameter_descriptions\r\n",
      "/tb3_1/move_base/local_costmap/parameter_updates\r\n",
      "/tb3_1/move_base/parameter_descriptions\r\n",
      "/tb3_1/move_base/parameter_updates\r\n",
      "/tb3_1/move_base/result\r\n",
      "/tb3_1/move_base/status\r\n",
      "/tb3_1/move_base_simple/goal\r\n",
      "/tb3_1/odom\r\n",
      "/tb3_1/particlecloud\r\n",
      "/tb3_1/scan\r\n",
      "/tb3_2/amcl/parameter_descriptions\r\n",
      "/tb3_2/amcl/parameter_updates\r\n",
      "/tb3_2/amcl_pose\r\n",
      "/tb3_2/camera/depth/camera_info\r\n",
      "/tb3_2/camera/depth/image_raw\r\n",
      "/tb3_2/camera/depth/points\r\n",
      "/tb3_2/camera/parameter_descriptions\r\n",
      "/tb3_2/camera/parameter_updates\r\n",
      "/tb3_2/camera/rgb/camera_info\r\n",
      "/tb3_2/camera/rgb/image_raw\r\n",
      "/tb3_2/camera/rgb/image_raw/compressed\r\n",
      "/tb3_2/camera/rgb/image_raw/compressed/parameter_descriptions\r\n",
      "/tb3_2/camera/rgb/image_raw/compressed/parameter_updates\r\n",
      "/tb3_2/camera/rgb/image_raw/compressedDepth\r\n",
      "/tb3_2/camera/rgb/image_raw/compressedDepth/parameter_descriptions\r\n",
      "/tb3_2/camera/rgb/image_raw/compressedDepth/parameter_updates\r\n",
      "/tb3_2/camera/rgb/image_raw/theora\r\n",
      "/tb3_2/camera/rgb/image_raw/theora/parameter_descriptions\r\n",
      "/tb3_2/camera/rgb/image_raw/theora/parameter_updates\r\n",
      "/tb3_2/cmd_vel\r\n",
      "/tb3_2/imu\r\n",
      "/tb3_2/initialpose\r\n",
      "/tb3_2/joint_states\r\n",
      "/tb3_2/laser\r\n",
      "/tb3_2/map\r\n",
      "/tb3_2/map_metadata\r\n",
      "/tb3_2/map_updates\r\n",
      "/tb3_2/move_base/NavfnROS/plan\r\n",
      "/tb3_2/move_base/TebLocalPlannerROS/global_plan\r\n",
      "/tb3_2/move_base/TebLocalPlannerROS/local_plan\r\n",
      "/tb3_2/move_base/TebLocalPlannerROS/obstacles\r\n",
      "/tb3_2/move_base/TebLocalPlannerROS/parameter_descriptions\r\n",
      "/tb3_2/move_base/TebLocalPlannerROS/parameter_updates\r\n",
      "/tb3_2/move_base/TebLocalPlannerROS/teb_feedback\r\n",
      "/tb3_2/move_base/TebLocalPlannerROS/teb_markers\r\n",
      "/tb3_2/move_base/TebLocalPlannerROS/teb_poses\r\n",
      "/tb3_2/move_base/TebLocalPlannerROS/via_points\r\n",
      "/tb3_2/move_base/cancel\r\n",
      "/tb3_2/move_base/current_goal\r\n",
      "/tb3_2/move_base/feedback\r\n",
      "/tb3_2/move_base/global_costmap/costmap\r\n",
      "/tb3_2/move_base/global_costmap/costmap_updates\r\n",
      "/tb3_2/move_base/global_costmap/footprint\r\n",
      "/tb3_2/move_base/global_costmap/inflation/parameter_descriptions\r\n",
      "/tb3_2/move_base/global_costmap/inflation/parameter_updates\r\n",
      "/tb3_2/move_base/global_costmap/parameter_descriptions\r\n",
      "/tb3_2/move_base/global_costmap/parameter_updates\r\n",
      "/tb3_2/move_base/global_costmap/sensor/parameter_descriptions\r\n",
      "/tb3_2/move_base/global_costmap/sensor/parameter_updates\r\n",
      "/tb3_2/move_base/global_costmap/static/parameter_descriptions\r\n",
      "/tb3_2/move_base/global_costmap/static/parameter_updates\r\n",
      "/tb3_2/move_base/goal\r\n",
      "/tb3_2/move_base/local_costmap/costmap\r\n",
      "/tb3_2/move_base/local_costmap/costmap_updates\r\n",
      "/tb3_2/move_base/local_costmap/footprint\r\n",
      "/tb3_2/move_base/local_costmap/inflation/parameter_descriptions\r\n",
      "/tb3_2/move_base/local_costmap/inflation/parameter_updates\r\n",
      "/tb3_2/move_base/local_costmap/obstacle_layer/parameter_descriptions\r\n",
      "/tb3_2/move_base/local_costmap/obstacle_layer/parameter_updates\r\n",
      "/tb3_2/move_base/local_costmap/parameter_descriptions\r\n",
      "/tb3_2/move_base/local_costmap/parameter_updates\r\n",
      "/tb3_2/move_base/parameter_descriptions\r\n",
      "/tb3_2/move_base/parameter_updates\r\n",
      "/tb3_2/move_base/result\r\n",
      "/tb3_2/move_base/status\r\n",
      "/tb3_2/move_base_simple/goal\r\n",
      "/tb3_2/odom\r\n",
      "/tb3_2/particlecloud\r\n",
      "/tb3_2/scan\r\n",
      "/tf\r\n",
      "/tf_static\r\n"
     ]
    }
   ],
   "source": [
    "!rostopic list"
   ]
  },
  {
   "cell_type": "markdown",
   "metadata": {},
   "source": [
    "### Wyświetlenie dostępnej pomocy dla polecenia rostopic"
   ]
  },
  {
   "cell_type": "code",
   "execution_count": 4,
   "metadata": {},
   "outputs": [
    {
     "name": "stdout",
     "output_type": "stream",
     "text": [
      "rostopic is a command-line tool for printing information about ROS Topics.\r\n",
      "\r\n",
      "Commands:\r\n",
      "\trostopic bw\tdisplay bandwidth used by topic\r\n",
      "\trostopic delay\tdisplay delay of topic from timestamp in header\r\n",
      "\trostopic echo\tprint messages to screen\r\n",
      "\trostopic find\tfind topics by type\r\n",
      "\trostopic hz\tdisplay publishing rate of topic    \r\n",
      "\trostopic info\tprint information about active topic\r\n",
      "\trostopic list\tlist active topics\r\n",
      "\trostopic pub\tpublish data to topic\r\n",
      "\trostopic type\tprint topic or field type\r\n",
      "\r\n",
      "Type rostopic <command> -h for more detailed usage, e.g. 'rostopic echo -h'\r\n",
      "\r\n"
     ]
    }
   ],
   "source": [
    "!rostopic --help"
   ]
  },
  {
   "cell_type": "markdown",
   "metadata": {},
   "source": [
    "### Najważniejsze topic'i w symulacji na przykładzie robota w przestrzeni nazw tb3_0\n",
    "\n",
    "- /tb3_0/amcl_pose - położenie robota\n",
    "- /tb3_0/cmd_vel - prędkości sterujące robotem\n",
    "- /tb3_0/move_base_simple/goal - na ten topic wysyłana jest informacja o celu do którego ma dojechać robot\n",
    "- /tb3_0/move_base/result - zwraca informację o tym czy udało się osiągnąć zadany cel\n",
    "\n",
    "Wyświetlenie informacji o topic'u **/tb3_0/cmd_vel**:"
   ]
  },
  {
   "cell_type": "code",
   "execution_count": 9,
   "metadata": {},
   "outputs": [
    {
     "name": "stdout",
     "output_type": "stream",
     "text": [
      "Type: geometry_msgs/Twist\r\n",
      "\r\n",
      "Publishers: \r\n",
      " * /tb3_0/move_base (http://localhost:37187/)\r\n",
      "\r\n",
      "Subscribers: \r\n",
      " * /gazebo (http://localhost:46095/)\r\n",
      "\r\n",
      "\r\n"
     ]
    }
   ],
   "source": [
    "!rostopic info /tb3_0/cmd_vel"
   ]
  },
  {
   "cell_type": "markdown",
   "metadata": {},
   "source": [
    "Wyświetlić informację o typie \"geometry_msgs/Twist\" powyższej wiadomości"
   ]
  },
  {
   "cell_type": "code",
   "execution_count": 10,
   "metadata": {},
   "outputs": [
    {
     "name": "stdout",
     "output_type": "stream",
     "text": [
      "geometry_msgs/Vector3 linear\r\n",
      "  float64 x\r\n",
      "  float64 y\r\n",
      "  float64 z\r\n",
      "geometry_msgs/Vector3 angular\r\n",
      "  float64 x\r\n",
      "  float64 y\r\n",
      "  float64 z\r\n",
      "\r\n"
     ]
    }
   ],
   "source": [
    "!rosmsg info geometry_msgs/Twist"
   ]
  },
  {
   "cell_type": "markdown",
   "metadata": {},
   "source": [
    "### Sprawdzenie danych w wiadomości"
   ]
  },
  {
   "cell_type": "code",
   "execution_count": 11,
   "metadata": {},
   "outputs": [
    {
     "name": "stdout",
     "output_type": "stream",
     "text": [
      "WARNING: no messages received and simulated time is active.\n",
      "Is /clock being published?\n",
      "^C\n"
     ]
    }
   ],
   "source": [
    "# po wywołaniu szybk zatrzymać stopem\n",
    "# podgląd całej wiadomości\n",
    "!rostopic echo -c /tb3_0/amcl_pose"
   ]
  },
  {
   "cell_type": "code",
   "execution_count": 8,
   "metadata": {},
   "outputs": [
    {
     "name": "stdout",
     "output_type": "stream",
     "text": [
      "\u001b[2J\u001b[;Hx: -6.8231662196844205\n",
      "y: -0.9927414132392813\n",
      "z: 0.0\n",
      "---\n",
      "^C\n"
     ]
    }
   ],
   "source": [
    "# podgląd pojedynczego pola\n",
    "!rostopic echo -c /tb3_0/amcl_pose/pose/pose/position"
   ]
  },
  {
   "cell_type": "markdown",
   "metadata": {},
   "source": [
    "## Publisher - Python"
   ]
  },
  {
   "cell_type": "markdown",
   "metadata": {},
   "source": [
    "Podstawową biblioteką do obsługi ROS w Pythonie jest **rospy**. Importowanie wiadomości na podstawie informacji o typie wiadomości jest następujące:\n",
    "\n",
    "**import** ***nazwa_paczki.msg*** **import** ***typ_wiadomosci***"
   ]
  },
  {
   "cell_type": "code",
   "execution_count": 12,
   "metadata": {},
   "outputs": [],
   "source": [
    "import rospy\n",
    "from geometry_msgs.msg import Twist"
   ]
  },
  {
   "cell_type": "markdown",
   "metadata": {},
   "source": [
    "Inicjalizacja node'a, aby ROS mógł jednoznacznie rozpoznać node'a.\n",
    "\n",
    "Uwaga techniczna. 1 init_node wywoływany w danym zeszycie od Jupyter Notebook."
   ]
  },
  {
   "cell_type": "code",
   "execution_count": 13,
   "metadata": {},
   "outputs": [],
   "source": [
    "rospy.init_node(\"topics_test\", anonymous=True)"
   ]
  },
  {
   "cell_type": "markdown",
   "metadata": {},
   "source": [
    "Do utworzenia publishera wykorzystywana jest klasa *Publisher* z biblioteki *rospy*. Przyjmowane kolejno argumenty:\n",
    "- nazwa topic'a, \n",
    "- typ wiadomości, \n",
    "- liczba zakolejkowanych wiadomości."
   ]
  },
  {
   "cell_type": "code",
   "execution_count": 35,
   "metadata": {},
   "outputs": [],
   "source": [
    "pub_speed=rospy.Publisher(\"/tb3_1/cmd_vel\",Twist,queue_size=10)"
   ]
  },
  {
   "cell_type": "markdown",
   "metadata": {},
   "source": [
    "Utworzenie i uzupełnienie wiadomości."
   ]
  },
  {
   "cell_type": "code",
   "execution_count": 36,
   "metadata": {},
   "outputs": [],
   "source": [
    "msg = Twist()\n",
    "msg.linear.x = 0.1\n",
    "msg.angular.z = 1"
   ]
  },
  {
   "cell_type": "markdown",
   "metadata": {},
   "source": [
    "Do wysłania wiadomości do robota *turtle1* jest metoda klasy *Publisher* o nazwie *publish*, która jako argument\n",
    "przyjmuje typ oczekiwanej wiadomości."
   ]
  },
  {
   "cell_type": "code",
   "execution_count": 37,
   "metadata": {},
   "outputs": [
    {
     "name": "stdout",
     "output_type": "stream",
     "text": [
      "Subscriber - polozenie robota x:  0.1\n",
      "Subscriber - polozenie robota x:  0.1\n",
      "Subscriber - polozenie robota x:  0.1\n"
     ]
    }
   ],
   "source": [
    "pub_speed.publish(msg)"
   ]
  },
  {
   "cell_type": "markdown",
   "metadata": {},
   "source": [
    "## Subscriber - Python\n",
    "Odbiór wysyłanej wiadomości."
   ]
  },
  {
   "cell_type": "code",
   "execution_count": 30,
   "metadata": {},
   "outputs": [],
   "source": [
    "def callback_function(msg_data):\n",
    "    print(\"Subscriber - polozenie robota x: \", msg_data.linear.x)"
   ]
  },
  {
   "cell_type": "markdown",
   "metadata": {},
   "source": [
    "Do utworzenia subscribera wykorzystywana jest klasa Publisher z biblioteki rospy. Przyjmowane kolejno argumenty:\n",
    "- nazwa topic'u\n",
    "- typ wiadomości\n",
    "- nazwa funkcji, która jest wywoływana do odebrania danych z odczytanej wiadomości"
   ]
  },
  {
   "cell_type": "code",
   "execution_count": 34,
   "metadata": {},
   "outputs": [],
   "source": [
    "from geometry_msgs.msg import Twist\n",
    "my_subscriber = rospy.Subscriber(\"/tb3_1/cmd_vel\",Twist,callback_function)"
   ]
  },
  {
   "cell_type": "markdown",
   "metadata": {},
   "source": [
    "Wyłączenie subscriber'a."
   ]
  },
  {
   "cell_type": "code",
   "execution_count": 32,
   "metadata": {},
   "outputs": [],
   "source": [
    "my_subscriber.unregister()"
   ]
  },
  {
   "cell_type": "markdown",
   "metadata": {},
   "source": [
    "## Zadania\n",
    "### Zadanie na 3\n",
    "Utworzenie Publishera dla jednego z robotów, na którym wysłany będzie cel. Wiadomość należy wysłać dla robota tb3_0, tb3_1 lub tb3_2 na topicu /nazwa_robota/move_base_simple/goal\n",
    "\n",
    "1. Sprawdzić typ wiadomości\n",
    "2. zaimportować typ wiadomości\n",
    "3. Zebrać współrzędne punktu\n",
    "4. Utworzyć publsihera\n",
    "5. Utworzyć i wysłać wiadomość"
   ]
  },
  {
   "cell_type": "markdown",
   "metadata": {},
   "source": [
    "### Zadanie na 4\n",
    "Utworzyć subscribera wyświetlającego wartość rezultatu z topicu dla wybranego robota (/nazwa_robota/move_base/result). \n",
    "\n",
    "1. Sprawdzić typ wiadomości\n",
    "2. Zimportować typ wiadomości\n",
    "3. utworzyć funkcje wyswietlajaca status bedacy wynikiem zadania dojazdu do punktu\n",
    "4. utworzyc subscribera\n",
    "\n",
    "Kolejne punkty na potrzeby testów można wysyłać już z poziomu interfejsu, a nie Publishera z zadania 3-ego"
   ]
  },
  {
   "cell_type": "markdown",
   "metadata": {},
   "source": [
    "### Zadanie na 5\n",
    "Utworzyć funkcję symulującą rozładowanie baterii w robotach wraz z upływem czasu i **publikującą informację na topicach** w odpowiednich przestrzeniach nazw informację o stanie naładownaia baterii. Korzystając z przykładu (1.1):\n",
    "\n",
    "http://wiki.ros.org/ROS/Tutorials/WritingPublisherSubscriber%28python%29\n",
    "\n",
    "należy utworzyć taką funkcję tak, aby w czasie ciągle dokonywane było rozładowanie baterii."
   ]
  },
  {
   "cell_type": "code",
   "execution_count": null,
   "metadata": {},
   "outputs": [],
   "source": []
  }
 ],
 "metadata": {
  "kernelspec": {
   "display_name": "Python 3",
   "language": "python",
   "name": "python3"
  },
  "language_info": {
   "codemirror_mode": {
    "name": "ipython",
    "version": 3
   },
   "file_extension": ".py",
   "mimetype": "text/x-python",
   "name": "python",
   "nbconvert_exporter": "python",
   "pygments_lexer": "ipython3",
   "version": "3.8.5"
  }
 },
 "nbformat": 4,
 "nbformat_minor": 4
}
